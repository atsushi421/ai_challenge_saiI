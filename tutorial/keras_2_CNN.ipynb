{
 "cells": [
  {
   "cell_type": "markdown",
   "metadata": {},
   "source": [
    "# 畳み込みニューラルネットワークを構築しよう\n",
    "---"
   ]
  },
  {
   "cell_type": "markdown",
   "metadata": {},
   "source": [
    "深層学習ライブラリ Keras を使って手書き数字のデータセット MNIST を分類するニューラルネットワークを構築しましょう。\n",
    "\n",
    "**はじめに**\n",
    "- for文やwhile文の利用は明示的な利用指示がない場所での利用は避けてください。\n",
    "\n",
    "**本演習の目的**\n",
    "- CNN（畳み込みニューラルネットワーク）を構築する"
   ]
  },
  {
   "cell_type": "markdown",
   "metadata": {},
   "source": [
    "## ライブラリのインストール\n",
    "\n",
    "まずはじめに、本演習で利用するライブラリのインポートを行います。\n",
    "\n",
    "- [numpy](http://www.numpy.org) 数値計算を行うための基本パッケージの公式ドキュメント"
   ]
  },
  {
   "cell_type": "code",
   "execution_count": 1,
   "metadata": {},
   "outputs": [
    {
     "name": "stderr",
     "output_type": "stream",
     "text": [
      "/home/zero2one/miniconda3/envs/zcar01/lib/python3.5/site-packages/tensorflow/python/framework/dtypes.py:455: FutureWarning: Passing (type, 1) or '1type' as a synonym of type is deprecated; in a future version of numpy, it will be understood as (type, (1,)) / '(1,)type'.\n",
      "  _np_qint8 = np.dtype([(\"qint8\", np.int8, 1)])\n",
      "/home/zero2one/miniconda3/envs/zcar01/lib/python3.5/site-packages/tensorflow/python/framework/dtypes.py:456: FutureWarning: Passing (type, 1) or '1type' as a synonym of type is deprecated; in a future version of numpy, it will be understood as (type, (1,)) / '(1,)type'.\n",
      "  _np_quint8 = np.dtype([(\"quint8\", np.uint8, 1)])\n",
      "/home/zero2one/miniconda3/envs/zcar01/lib/python3.5/site-packages/tensorflow/python/framework/dtypes.py:457: FutureWarning: Passing (type, 1) or '1type' as a synonym of type is deprecated; in a future version of numpy, it will be understood as (type, (1,)) / '(1,)type'.\n",
      "  _np_qint16 = np.dtype([(\"qint16\", np.int16, 1)])\n",
      "/home/zero2one/miniconda3/envs/zcar01/lib/python3.5/site-packages/tensorflow/python/framework/dtypes.py:458: FutureWarning: Passing (type, 1) or '1type' as a synonym of type is deprecated; in a future version of numpy, it will be understood as (type, (1,)) / '(1,)type'.\n",
      "  _np_quint16 = np.dtype([(\"quint16\", np.uint16, 1)])\n",
      "/home/zero2one/miniconda3/envs/zcar01/lib/python3.5/site-packages/tensorflow/python/framework/dtypes.py:459: FutureWarning: Passing (type, 1) or '1type' as a synonym of type is deprecated; in a future version of numpy, it will be understood as (type, (1,)) / '(1,)type'.\n",
      "  _np_qint32 = np.dtype([(\"qint32\", np.int32, 1)])\n",
      "/home/zero2one/miniconda3/envs/zcar01/lib/python3.5/site-packages/tensorflow/python/framework/dtypes.py:462: FutureWarning: Passing (type, 1) or '1type' as a synonym of type is deprecated; in a future version of numpy, it will be understood as (type, (1,)) / '(1,)type'.\n",
      "  np_resource = np.dtype([(\"resource\", np.ubyte, 1)])\n",
      "Using TensorFlow backend.\n"
     ]
    }
   ],
   "source": [
    "import tensorflow as tf\n",
    "import keras\n",
    "\n",
    "import numpy as np\n",
    "import matplotlib.pyplot as plt\n",
    "\n",
    "# 各レイヤーで使用するものをインポートします。\n",
    "from keras.layers import Dense, Flatten, Activation\n",
    "from keras.models import Sequential\n",
    "from keras.layers import Conv2D"
   ]
  },
  {
   "cell_type": "code",
   "execution_count": 2,
   "metadata": {},
   "outputs": [
    {
     "name": "stdout",
     "output_type": "stream",
     "text": [
      "1.1.0\n",
      "1.2.0\n"
     ]
    }
   ],
   "source": [
    "print(tf.__version__)\n",
    "print(keras.__version__)"
   ]
  },
  {
   "cell_type": "markdown",
   "metadata": {},
   "source": [
    "## データの読み込み"
   ]
  },
  {
   "cell_type": "code",
   "execution_count": 3,
   "metadata": {},
   "outputs": [],
   "source": [
    "# mnistデータセットを準備します。\n",
    "from keras.datasets import mnist\n",
    "\n",
    "img_rows, img_cols = 28, 28\n",
    "\n",
    "(X_train, Y_train), (X_test, Y_test) = mnist.load_data()\n",
    "\n",
    "X_train = X_train.reshape(X_train.shape[0], img_rows, img_cols, 1)\n",
    "X_test = X_test.reshape(X_test.shape[0], img_rows, img_cols, 1)\n",
    "input_shape = (img_rows, img_cols, 1)\n",
    "\n",
    "X_train, X_test = X_train / 255.0, X_test / 255.0\n",
    "\n",
    "from keras.utils.np_utils import to_categorical\n",
    "y_train = to_categorical(Y_train)\n",
    "y_test = to_categorical(Y_test)"
   ]
  },
  {
   "cell_type": "markdown",
   "metadata": {},
   "source": [
    "ここで4つの変数に訓練データとテストデータを格納しました。\n",
    "\n",
    "* x_train: 訓練データ\n",
    "* y_train: 訓練データ用の正解ラベル\n",
    "* x_test: テストデータ\n",
    "* y_test: テストデータ用の正解ラベル\n",
    "\n",
    "それぞれの配列を確認しましょう。"
   ]
  },
  {
   "cell_type": "code",
   "execution_count": 4,
   "metadata": {},
   "outputs": [
    {
     "name": "stdout",
     "output_type": "stream",
     "text": [
      "X_train: (60000, 28, 28, 1)\n",
      "y_train: (60000, 10)\n",
      "X_test: (10000, 28, 28, 1)\n",
      "y_test: (10000, 10)\n"
     ]
    }
   ],
   "source": [
    "print('X_train:', X_train.shape)\n",
    "print('y_train:', y_train.shape)\n",
    "print('X_test:', X_test.shape)\n",
    "print('y_test:', y_test.shape)"
   ]
  },
  {
   "cell_type": "markdown",
   "metadata": {},
   "source": [
    "ここで、X_trainのshapeの並びに注目してみると`(60000, 28, 28, 1)`となっています。左から（バッチサイズ、行、列、チャネル）となっている点に気をつけてください。このようなフォーマットをチャンネルラストと言います。逆に（バッチサイズ、チャネル、行、列）をチャンネルファーストと言います。この配列は畳み込み層に使う配列に合わせて変更をしています。"
   ]
  },
  {
   "cell_type": "markdown",
   "metadata": {},
   "source": [
    "## 畳み込みニューラルネットワークのモデルを構築\n",
    "\n",
    "Sequential モデルを構築します。\n",
    "\n",
    "<img src=\"./img/cnn.png\">\n",
    "\n",
    "2次元の畳み込みレイヤー`Conv2D`を第1層に使うときは`input_shape`を指定します。今回のデータセットはチャンネルラストで用意したので、`input_shape`は、`input_shape = (rows, cols, channels)`となります。\n",
    "\n",
    "**[Conv2Dのドキュメント](https://keras.io/ja/layers/convolutional/)**\n",
    "\n",
    "```py\n",
    "keras.layers.Conv2D(filters, kernel_size, strides=(1, 1), padding='valid', data_format=None, dilation_rate=(1, 1), activation=None, use_bias=True, kernel_initializer='glorot_uniform', bias_initializer='zeros', kernel_regularizer=None, bias_regularizer=None, activity_regularizer=None, kernel_constraint=None, bias_constraint=None)\n",
    "```\n",
    "\n",
    "\n",
    "では、実際にモデルを構築してみましょう。"
   ]
  },
  {
   "cell_type": "code",
   "execution_count": 5,
   "metadata": {},
   "outputs": [],
   "source": [
    "# Sequential モデルを構築します。\n",
    "model = Sequential()\n",
    "model.add(Conv2D(32, 3, 3, activation='relu', input_shape=(img_rows, img_cols, 1)))\n",
    "model.add(Conv2D(64, 3, 3, activation='relu'))\n",
    "model.add(Flatten())\n",
    "model.add(Dense(128, activation='relu'))\n",
    "model.add(Dense(10, activation='softmax'))"
   ]
  },
  {
   "cell_type": "markdown",
   "metadata": {},
   "source": [
    "## モデルのコンパイル"
   ]
  },
  {
   "cell_type": "code",
   "execution_count": 6,
   "metadata": {},
   "outputs": [],
   "source": [
    "# 評価指標（metrics）として accuracy を追加しています。\n",
    "model.compile(optimizer='adam',\n",
    "              loss='categorical_crossentropy',\n",
    "              metrics=['accuracy'])"
   ]
  },
  {
   "cell_type": "markdown",
   "metadata": {},
   "source": [
    "## モデルの確認"
   ]
  },
  {
   "cell_type": "code",
   "execution_count": 7,
   "metadata": {},
   "outputs": [
    {
     "name": "stdout",
     "output_type": "stream",
     "text": [
      "____________________________________________________________________________________________________\n",
      "Layer (type)                     Output Shape          Param #     Connected to                     \n",
      "====================================================================================================\n",
      "convolution2d_1 (Convolution2D)  (None, 26, 26, 32)    320         convolution2d_input_1[0][0]      \n",
      "____________________________________________________________________________________________________\n",
      "convolution2d_2 (Convolution2D)  (None, 24, 24, 64)    18496       convolution2d_1[0][0]            \n",
      "____________________________________________________________________________________________________\n",
      "flatten_1 (Flatten)              (None, 36864)         0           convolution2d_2[0][0]            \n",
      "____________________________________________________________________________________________________\n",
      "dense_1 (Dense)                  (None, 128)           4718720     flatten_1[0][0]                  \n",
      "____________________________________________________________________________________________________\n",
      "dense_2 (Dense)                  (None, 10)            1290        dense_1[0][0]                    \n",
      "====================================================================================================\n",
      "Total params: 4,738,826\n",
      "Trainable params: 4,738,826\n",
      "Non-trainable params: 0\n",
      "____________________________________________________________________________________________________\n"
     ]
    }
   ],
   "source": [
    "model.summary()"
   ]
  },
  {
   "cell_type": "markdown",
   "metadata": {},
   "source": [
    "## モデルを学習させてみよう"
   ]
  },
  {
   "cell_type": "code",
   "execution_count": null,
   "metadata": {},
   "outputs": [
    {
     "name": "stdout",
     "output_type": "stream",
     "text": [
      "Train on 60000 samples, validate on 10000 samples\n",
      "Epoch 1/10\n",
      "60000/60000 [==============================] - 404s - loss: 0.1514 - acc: 0.9538 - val_loss: 0.0435 - val_acc: 0.9851\n",
      "Epoch 2/10\n",
      "60000/60000 [==============================] - 404s - loss: 0.0405 - acc: 0.9878 - val_loss: 0.0388 - val_acc: 0.9873\n",
      "Epoch 3/10\n",
      "60000/60000 [==============================] - 408s - loss: 0.0238 - acc: 0.9923 - val_loss: 0.0438 - val_acc: 0.9862\n",
      "Epoch 4/10\n",
      "60000/60000 [==============================] - 405s - loss: 0.0143 - acc: 0.9954 - val_loss: 0.0566 - val_acc: 0.9841\n",
      "Epoch 5/10\n",
      "60000/60000 [==============================] - 404s - loss: 0.0105 - acc: 0.9964 - val_loss: 0.0443 - val_acc: 0.9861\n",
      "Epoch 6/10\n",
      "60000/60000 [==============================] - 408s - loss: 0.0078 - acc: 0.9973 - val_loss: 0.0451 - val_acc: 0.9872\n",
      "Epoch 7/10\n",
      "60000/60000 [==============================] - 637s - loss: 0.0075 - acc: 0.9976 - val_loss: 0.0486 - val_acc: 0.9868\n",
      "Epoch 8/10\n",
      "60000/60000 [==============================] - 806s - loss: 0.0056 - acc: 0.9983 - val_loss: 0.0519 - val_acc: 0.9875\n",
      "Epoch 9/10\n",
      "60000/60000 [==============================] - 806s - loss: 0.0047 - acc: 0.9985 - val_loss: 0.0596 - val_acc: 0.9866\n",
      "Epoch 10/10\n",
      "13696/60000 [=====>........................] - ETA: 588s - loss: 0.0075 - acc: 0.9974"
     ]
    }
   ],
   "source": [
    "# エポック=10で学習します。\n",
    "epochs=10\n",
    "fit = model.fit(X_train, y_train, batch_size=128, nb_epoch=epochs, verbose=1, validation_data=(X_test, y_test))"
   ]
  },
  {
   "cell_type": "markdown",
   "metadata": {},
   "source": [
    "## エポックごとのロスを確認しよう"
   ]
  },
  {
   "cell_type": "code",
   "execution_count": null,
   "metadata": {},
   "outputs": [],
   "source": [
    "plt.plot(fit.history['loss'])\n",
    "plt.plot(fit.history['val_loss'])\n",
    "plt.title('model sparse categorical crossentropy accuracy')\n",
    "plt.ylabel('sparse categorical crossentropy accuracy')\n",
    "plt.xlabel('epoch')\n",
    "plt.legend(['training data', 'validation data'], loc='upper right')\n",
    "plt.show()"
   ]
  },
  {
   "cell_type": "markdown",
   "metadata": {},
   "source": [
    "## エポックごとの正解率を確認しよう"
   ]
  },
  {
   "cell_type": "code",
   "execution_count": null,
   "metadata": {},
   "outputs": [],
   "source": [
    "plt.plot(fit.history['acc'])\n",
    "plt.plot(fit.history['val_acc'])\n",
    "plt.title('model sparse categorical crossentropy accuracy')\n",
    "plt.ylabel('sparse categorical crossentropy accuracy')\n",
    "plt.xlabel('epoch')\n",
    "plt.legend(['training data', 'validation data'], loc='upper right')\n",
    "plt.show()"
   ]
  },
  {
   "cell_type": "markdown",
   "metadata": {},
   "source": [
    "## モデルを評価しよう"
   ]
  },
  {
   "cell_type": "code",
   "execution_count": null,
   "metadata": {},
   "outputs": [],
   "source": [
    "# 精度を評価します。戻り値はそれぞれloss、accuracyです。\n",
    "loss, accuracy = model.evaluate(X_test, y_test)\n",
    "print('loss', loss)\n",
    "print('accuracy', accuracy)"
   ]
  },
  {
   "cell_type": "code",
   "execution_count": null,
   "metadata": {},
   "outputs": [],
   "source": []
  }
 ],
 "metadata": {
  "kernelspec": {
   "display_name": "Python 3",
   "language": "python",
   "name": "python3"
  },
  "language_info": {
   "codemirror_mode": {
    "name": "ipython",
    "version": 3
   },
   "file_extension": ".py",
   "mimetype": "text/x-python",
   "name": "python",
   "nbconvert_exporter": "python",
   "pygments_lexer": "ipython3",
   "version": "3.5.6"
  }
 },
 "nbformat": 4,
 "nbformat_minor": 4
}
