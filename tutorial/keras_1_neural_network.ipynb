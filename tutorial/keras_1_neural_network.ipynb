{
 "cells": [
  {
   "cell_type": "markdown",
   "metadata": {},
   "source": [
    "# 深層学習ライブラリ Keras を使って手書き数字を分類しよう\n",
    "---"
   ]
  },
  {
   "cell_type": "markdown",
   "metadata": {},
   "source": [
    "深層学習ライブラリ Keras を使って手書き数字のデータセット MNIST を分類するニューラルネットワークを構築しましょう。\n",
    "\n",
    "**はじめに**\n",
    "- for文やwhile文の利用は明示的な利用指示がない場所での利用は避けてください。\n",
    "\n",
    "**本演習の目的**\n",
    "- Kerasに慣れる\n",
    "- 手書き数字のデータセット MNIST を分類する"
   ]
  },
  {
   "cell_type": "markdown",
   "metadata": {},
   "source": [
    "## ライブラリのインストール\n",
    "\n",
    "まずはじめに、本演習で利用するライブラリのインポートを行います。\n",
    "\n",
    "- [numpy](http://www.numpy.org) 数値計算を行うための基本パッケージの公式ドキュメント"
   ]
  },
  {
   "cell_type": "code",
   "execution_count": 1,
   "metadata": {},
   "outputs": [
    {
     "name": "stderr",
     "output_type": "stream",
     "text": [
      "/home/zero2one/miniconda3/envs/zcar01/lib/python3.5/site-packages/tensorflow/python/framework/dtypes.py:455: FutureWarning: Passing (type, 1) or '1type' as a synonym of type is deprecated; in a future version of numpy, it will be understood as (type, (1,)) / '(1,)type'.\n",
      "  _np_qint8 = np.dtype([(\"qint8\", np.int8, 1)])\n",
      "/home/zero2one/miniconda3/envs/zcar01/lib/python3.5/site-packages/tensorflow/python/framework/dtypes.py:456: FutureWarning: Passing (type, 1) or '1type' as a synonym of type is deprecated; in a future version of numpy, it will be understood as (type, (1,)) / '(1,)type'.\n",
      "  _np_quint8 = np.dtype([(\"quint8\", np.uint8, 1)])\n",
      "/home/zero2one/miniconda3/envs/zcar01/lib/python3.5/site-packages/tensorflow/python/framework/dtypes.py:457: FutureWarning: Passing (type, 1) or '1type' as a synonym of type is deprecated; in a future version of numpy, it will be understood as (type, (1,)) / '(1,)type'.\n",
      "  _np_qint16 = np.dtype([(\"qint16\", np.int16, 1)])\n",
      "/home/zero2one/miniconda3/envs/zcar01/lib/python3.5/site-packages/tensorflow/python/framework/dtypes.py:458: FutureWarning: Passing (type, 1) or '1type' as a synonym of type is deprecated; in a future version of numpy, it will be understood as (type, (1,)) / '(1,)type'.\n",
      "  _np_quint16 = np.dtype([(\"quint16\", np.uint16, 1)])\n",
      "/home/zero2one/miniconda3/envs/zcar01/lib/python3.5/site-packages/tensorflow/python/framework/dtypes.py:459: FutureWarning: Passing (type, 1) or '1type' as a synonym of type is deprecated; in a future version of numpy, it will be understood as (type, (1,)) / '(1,)type'.\n",
      "  _np_qint32 = np.dtype([(\"qint32\", np.int32, 1)])\n",
      "/home/zero2one/miniconda3/envs/zcar01/lib/python3.5/site-packages/tensorflow/python/framework/dtypes.py:462: FutureWarning: Passing (type, 1) or '1type' as a synonym of type is deprecated; in a future version of numpy, it will be understood as (type, (1,)) / '(1,)type'.\n",
      "  np_resource = np.dtype([(\"resource\", np.ubyte, 1)])\n",
      "Using TensorFlow backend.\n"
     ]
    }
   ],
   "source": [
    "import tensorflow as tf\n",
    "import keras\n",
    "\n",
    "import numpy as np\n",
    "import matplotlib.pyplot as plt\n",
    "\n",
    "# 各レイヤーで使用するものをインポートします。\n",
    "from keras.models import Sequential\n",
    "from keras.layers import Dense, Flatten, Activation"
   ]
  },
  {
   "cell_type": "code",
   "execution_count": 2,
   "metadata": {},
   "outputs": [
    {
     "name": "stdout",
     "output_type": "stream",
     "text": [
      "1.1.0\n",
      "1.2.0\n"
     ]
    }
   ],
   "source": [
    "print(tf.__version__)\n",
    "print(keras.__version__)"
   ]
  },
  {
   "cell_type": "markdown",
   "metadata": {},
   "source": [
    "## データの読み込み\n",
    "\n",
    "`from keras.datasets import mnist` でMNISTのデータセットを読み込むことができます。\n",
    "\n",
    "読み込んだMNISTを使う準備ができました。\n",
    "\n",
    "次に、読み込んだMNISTを訓練データとテストデータにデータセットを分割します。\n",
    "\n",
    "```py\n",
    "(X_train, Y_train), (X_test, Y_test) = mnist.load_data()\n",
    "```\n",
    "\n",
    "それでは下記のセルを実行してみましょう。"
   ]
  },
  {
   "cell_type": "code",
   "execution_count": 3,
   "metadata": {},
   "outputs": [
    {
     "name": "stdout",
     "output_type": "stream",
     "text": [
      "Downloading data from https://s3.amazonaws.com/img-datasets/mnist.pkl.gz\n",
      "14770176/15296311 [===========================>..] - ETA: 0s"
     ]
    }
   ],
   "source": [
    "# mnistデータセットを準備します。\n",
    "from keras.datasets import mnist\n",
    "(X_train, Y_train), (X_test, Y_test) = mnist.load_data()\n",
    "X_train, X_test = X_train / 255.0, X_test / 255.0"
   ]
  },
  {
   "cell_type": "markdown",
   "metadata": {},
   "source": [
    "ここで4つの変数に訓練データとテストデータを格納しました。\n",
    "\n",
    "* X_train: 訓練データ\n",
    "* Y_train: 訓練データ用の正解ラベル\n",
    "* X_test: テストデータ\n",
    "* Y_test: テストデータ用の正解ラベル\n",
    "\n",
    "それぞれの配列を確認しましょう。"
   ]
  },
  {
   "cell_type": "code",
   "execution_count": 4,
   "metadata": {},
   "outputs": [
    {
     "name": "stdout",
     "output_type": "stream",
     "text": [
      "X_train: (60000, 28, 28)\n",
      "Y_train: (60000,)\n",
      "X_test: (10000, 28, 28)\n",
      "Y_test: (10000,)\n"
     ]
    }
   ],
   "source": [
    "print('X_train:', X_train.shape)\n",
    "print('Y_train:', Y_train.shape)\n",
    "print('X_test:', X_test.shape)\n",
    "print('Y_test:', Y_test.shape)"
   ]
  },
  {
   "cell_type": "markdown",
   "metadata": {},
   "source": [
    "**訓練データ**<br>\n",
    "訓練データの中身を確認してみましょう。下のセルはランダムに一枚の画像を表示するプログラムです。何度か実行してみてください。"
   ]
  },
  {
   "cell_type": "code",
   "execution_count": 5,
   "metadata": {},
   "outputs": [
    {
     "name": "stdout",
     "output_type": "stream",
     "text": [
      "数字：0\n"
     ]
    },
    {
     "data": {
      "image/png": "[encoded data removed]",
      "text/plain": [
       "<Figure size 432x288 with 1 Axes>"
      ]
     },
     "metadata": {
      "needs_background": "light"
     },
     "output_type": "display_data"
    }
   ],
   "source": [
    "num = np.random.randint(0, len(X_train))\n",
    "plt.imshow(X_train[num].reshape(28, 28), cmap='gray')\n",
    "print(\"数字：{}\".format(Y_train[num]))"
   ]
  },
  {
   "cell_type": "markdown",
   "metadata": {},
   "source": [
    "**正解ラベル**<br>\n",
    "訓練データから最初の10個の正解ラベルを確認してみましょう。"
   ]
  },
  {
   "cell_type": "code",
   "execution_count": 6,
   "metadata": {},
   "outputs": [
    {
     "data": {
      "text/plain": [
       "array([5, 0, 4, 1, 9, 2, 1, 3, 1, 4], dtype=uint8)"
      ]
     },
     "execution_count": 6,
     "metadata": {},
     "output_type": "execute_result"
    }
   ],
   "source": [
    "Y_train[:10]"
   ]
  },
  {
   "cell_type": "markdown",
   "metadata": {},
   "source": [
    "<img src=\"./img/label.png\">\n",
    "\n",
    "Kerasでは One-Hot Encodingを行うための関数が用意されています。下のセルのプログラムを実行して最初から10個の正解ラベルをみてみましょう。"
   ]
  },
  {
   "cell_type": "code",
   "execution_count": 7,
   "metadata": {},
   "outputs": [
    {
     "data": {
      "text/plain": [
       "array([[0., 0., 0., 0., 0., 1., 0., 0., 0., 0.],\n",
       "       [1., 0., 0., 0., 0., 0., 0., 0., 0., 0.],\n",
       "       [0., 0., 0., 0., 1., 0., 0., 0., 0., 0.],\n",
       "       [0., 1., 0., 0., 0., 0., 0., 0., 0., 0.],\n",
       "       [0., 0., 0., 0., 0., 0., 0., 0., 0., 1.],\n",
       "       [0., 0., 1., 0., 0., 0., 0., 0., 0., 0.],\n",
       "       [0., 1., 0., 0., 0., 0., 0., 0., 0., 0.],\n",
       "       [0., 0., 0., 1., 0., 0., 0., 0., 0., 0.],\n",
       "       [0., 1., 0., 0., 0., 0., 0., 0., 0., 0.],\n",
       "       [0., 0., 0., 0., 1., 0., 0., 0., 0., 0.]])"
      ]
     },
     "execution_count": 7,
     "metadata": {},
     "output_type": "execute_result"
    }
   ],
   "source": [
    "from keras.utils.np_utils import to_categorical\n",
    "y_train = to_categorical(Y_train)\n",
    "y_test = to_categorical(Y_test)\n",
    "y_train[:10]"
   ]
  },
  {
   "cell_type": "markdown",
   "metadata": {},
   "source": [
    "## ニューラルネットワークのモデルを構築\n",
    "\n",
    "Sequential モデルを構築します。Sequential モデルは層を積み重ねたモデルのことをさします。\n",
    "\n",
    "<img src=\"./img/keras_mnist_model.png\">"
   ]
  },
  {
   "cell_type": "markdown",
   "metadata": {},
   "source": [
    "**入力層**\n",
    "\n",
    "- ユニット数: 784個\n",
    "\n",
    "`Flatten(input_shape=(28, 28))` と記述することで 784 (28×28) の入力層が準備されます。\n",
    "\n",
    "\n",
    "**中間層**\n",
    "- ユニット数: 128個\n",
    "- Dense(128, activation='relu')： 活性化関数がReluの全結合層を作成します。\n",
    "\n",
    "\n",
    "**出力層**\n",
    "- ユニット数: 10個\n",
    "- 　Dense(10, activation='softmax')： 活性化関数がSoftmaxの全結合層を作成します。\n",
    "\n",
    "Sequential モデルを構築する際は層（レイヤー）を積み重ねていきます。\n",
    "\n",
    "具体的には、\n",
    "\n",
    "* Dense： 通常の全結合ニューラルネットワークレイヤー\n",
    "* Flatten： 入力を平坦化\n",
    "* Activation： 活性化関数\n",
    "\n",
    "などがあります。\n",
    "\n",
    "Denseの場合下記になります。\n",
    "\n",
    "**[Coreレイヤー](https://keras.io/ja/layers/core/)**\n",
    "\n",
    "```py\n",
    "keras.layers.Dense(units, activation=None, use_bias=True, kernel_initializer='glorot_uniform', bias_initializer='zeros', kernel_regularizer=None, bias_regularizer=None, activity_regularizer=None, kernel_constraint=None, bias_constraint=None)\n",
    "```\n",
    "\n",
    "**重みの初期値**\n",
    "\n",
    "各層の重みは`kernel_initializer` で指定できます。デフォルトは`glorot_uniform`です。\n",
    "\n",
    "では、実際にモデルを構築してみましょう。"
   ]
  },
  {
   "cell_type": "code",
   "execution_count": 8,
   "metadata": {},
   "outputs": [],
   "source": [
    "# Sequential モデルを構築します。\n",
    "model = Sequential()\n",
    "model.add(Flatten(input_shape=(28, 28)))\n",
    "model.add(Dense(128, activation='relu'))\n",
    "model.add(Dense(10, activation='softmax'))"
   ]
  },
  {
   "cell_type": "markdown",
   "metadata": {},
   "source": [
    "## モデルのコンパイル\n",
    "\n",
    "構築したモデルを訓練させるにはいくつかの設定をコンパイル時に追加する必要があります。\n",
    "\n",
    "* オプティマイザ（optimizer）：最適化アルゴリズムを指定します。（sgdやadam、RMSpropなどがあります。）\n",
    "* 目的関数（loss function） ：訓練がどの程度正確に進んでいるか示す指標です。\n",
    "* メトリクス（metrics） ：訓練とテスト結果を監視します。下記ではaccuracy （正解率）を記録しています。"
   ]
  },
  {
   "cell_type": "code",
   "execution_count": 9,
   "metadata": {},
   "outputs": [],
   "source": [
    "# 評価指標（metrics）として accuracy を追加しています。\n",
    "model.compile(optimizer='adam',\n",
    "              loss='categorical_crossentropy',\n",
    "              metrics=['accuracy'])"
   ]
  },
  {
   "cell_type": "markdown",
   "metadata": {},
   "source": [
    "## モデルの確認\n",
    "\n",
    "構築したモデルを確認するには`model.summary()`を実行します。モデル全体の構成や各層におけるパラメータ数などを一目で確認することができるため便利です。"
   ]
  },
  {
   "cell_type": "code",
   "execution_count": 10,
   "metadata": {},
   "outputs": [
    {
     "name": "stdout",
     "output_type": "stream",
     "text": [
      "____________________________________________________________________________________________________\n",
      "Layer (type)                     Output Shape          Param #     Connected to                     \n",
      "====================================================================================================\n",
      "flatten_1 (Flatten)              (None, 784)           0           flatten_input_1[0][0]            \n",
      "____________________________________________________________________________________________________\n",
      "dense_1 (Dense)                  (None, 128)           100480      flatten_1[0][0]                  \n",
      "____________________________________________________________________________________________________\n",
      "dense_2 (Dense)                  (None, 10)            1290        dense_1[0][0]                    \n",
      "====================================================================================================\n",
      "Total params: 101,770\n",
      "Trainable params: 101,770\n",
      "Non-trainable params: 0\n",
      "____________________________________________________________________________________________________\n"
     ]
    }
   ],
   "source": [
    "model.summary()"
   ]
  },
  {
   "cell_type": "markdown",
   "metadata": {},
   "source": [
    "## モデルを学習させてみよう\n",
    "\n",
    "`model.fit` と記述することで作成した Sequential モデル を学習できます。\n",
    "\n",
    "ここではエポック数を10、バッチサイズを128としました。"
   ]
  },
  {
   "cell_type": "code",
   "execution_count": 11,
   "metadata": {},
   "outputs": [
    {
     "name": "stdout",
     "output_type": "stream",
     "text": [
      "Train on 60000 samples, validate on 10000 samples\n",
      "Epoch 1/10\n",
      "60000/60000 [==============================] - 3s - loss: 0.3652 - acc: 0.8994 - val_loss: 0.2005 - val_acc: 0.9410\n",
      "Epoch 2/10\n",
      "60000/60000 [==============================] - 3s - loss: 0.1676 - acc: 0.9522 - val_loss: 0.1401 - val_acc: 0.9600\n",
      "Epoch 3/10\n",
      "60000/60000 [==============================] - 3s - loss: 0.1200 - acc: 0.9662 - val_loss: 0.1101 - val_acc: 0.9671\n",
      "Epoch 4/10\n",
      "60000/60000 [==============================] - 3s - loss: 0.0935 - acc: 0.9729 - val_loss: 0.0973 - val_acc: 0.9710\n",
      "Epoch 5/10\n",
      "60000/60000 [==============================] - 3s - loss: 0.0757 - acc: 0.9785 - val_loss: 0.0869 - val_acc: 0.9735\n",
      "Epoch 6/10\n",
      "60000/60000 [==============================] - 3s - loss: 0.0621 - acc: 0.9820 - val_loss: 0.0856 - val_acc: 0.9747\n",
      "Epoch 7/10\n",
      "60000/60000 [==============================] - 3s - loss: 0.0525 - acc: 0.9846 - val_loss: 0.0779 - val_acc: 0.9769\n",
      "Epoch 8/10\n",
      "60000/60000 [==============================] - 3s - loss: 0.0436 - acc: 0.9873 - val_loss: 0.0795 - val_acc: 0.9760\n",
      "Epoch 9/10\n",
      "60000/60000 [==============================] - 3s - loss: 0.0365 - acc: 0.9896 - val_loss: 0.0726 - val_acc: 0.9777\n",
      "Epoch 10/10\n",
      "60000/60000 [==============================] - 3s - loss: 0.0306 - acc: 0.9920 - val_loss: 0.0735 - val_acc: 0.9770\n"
     ]
    }
   ],
   "source": [
    "# エポック=10で学習します。\n",
    "epochs=10\n",
    "fit = model.fit(X_train, y_train, batch_size=128, nb_epoch=epochs, verbose=1, validation_data=(X_test, y_test))"
   ]
  },
  {
   "cell_type": "markdown",
   "metadata": {},
   "source": [
    "## エポックごとのロスを確認しよう"
   ]
  },
  {
   "cell_type": "code",
   "execution_count": 12,
   "metadata": {},
   "outputs": [
    {
     "data": {
      "image/png": "[encoded data removed]",
      "text/plain": [
       "<Figure size 432x288 with 1 Axes>"
      ]
     },
     "metadata": {
      "needs_background": "light"
     },
     "output_type": "display_data"
    }
   ],
   "source": [
    "plt.plot(fit.history['loss'])\n",
    "plt.plot(fit.history['val_loss'])\n",
    "plt.title('model sparse categorical crossentropy accuracy')\n",
    "plt.ylabel('sparse categorical crossentropy accuracy')\n",
    "plt.xlabel('epoch')\n",
    "plt.legend(['training data', 'validation data'], loc='upper right')\n",
    "plt.show()"
   ]
  },
  {
   "cell_type": "markdown",
   "metadata": {},
   "source": [
    "## エポックごとの正解率を確認しよう"
   ]
  },
  {
   "cell_type": "code",
   "execution_count": 13,
   "metadata": {},
   "outputs": [
    {
     "data": {
      "image/png": "[encoded data removed]",
      "text/plain": [
       "<Figure size 432x288 with 1 Axes>"
      ]
     },
     "metadata": {
      "needs_background": "light"
     },
     "output_type": "display_data"
    }
   ],
   "source": [
    "plt.plot(fit.history['acc'])\n",
    "plt.plot(fit.history['val_acc'])\n",
    "plt.title('model sparse categorical crossentropy accuracy')\n",
    "plt.ylabel('sparse categorical crossentropy accuracy')\n",
    "plt.xlabel('epoch')\n",
    "plt.legend(['training data', 'validation data'], loc='upper right')\n",
    "plt.show()"
   ]
  },
  {
   "cell_type": "markdown",
   "metadata": {},
   "source": [
    "## モデルを評価しよう"
   ]
  },
  {
   "cell_type": "code",
   "execution_count": 14,
   "metadata": {},
   "outputs": [
    {
     "name": "stdout",
     "output_type": "stream",
     "text": [
      " 9792/10000 [============================>.] - ETA: 0sloss 0.07353519459106028\n",
      "accuracy 0.977\n"
     ]
    }
   ],
   "source": [
    "# 精度を評価します。戻り値はそれぞれloss、accuracyです。\n",
    "loss, accuracy = model.evaluate(X_test, y_test)\n",
    "print('loss', loss)\n",
    "print('accuracy', accuracy)"
   ]
  },
  {
   "cell_type": "code",
   "execution_count": null,
   "metadata": {},
   "outputs": [],
   "source": []
  }
 ],
 "metadata": {
  "kernelspec": {
   "display_name": "Python 3",
   "language": "python",
   "name": "python3"
  },
  "language_info": {
   "codemirror_mode": {
    "name": "ipython",
    "version": 3
   },
   "file_extension": ".py",
   "mimetype": "text/x-python",
   "name": "python",
   "nbconvert_exporter": "python",
   "pygments_lexer": "ipython3",
   "version": "3.5.6"
  }
 },
 "nbformat": 4,
 "nbformat_minor": 4
}
