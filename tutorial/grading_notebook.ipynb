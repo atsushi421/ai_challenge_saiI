{
 "cells": [
  {
   "cell_type": "markdown",
   "metadata": {},
   "source": [
    "# 演習課題の提出\n",
    "---"
   ]
  },
  {
   "cell_type": "markdown",
   "metadata": {},
   "source": [
    "自動運転モードによる１週を達成したらこのJupyter Notebookで採点（修了判定）を行います。採点用のセル内に「ユーザー名(Username)」と「採点有効化キー(ActivationKey)」を入力してください。"
   ]
  },
  {
   "cell_type": "markdown",
   "metadata": {},
   "source": [
    "### 採点"
   ]
  },
  {
   "cell_type": "markdown",
   "metadata": {},
   "source": [
    "採点用のセルに「ユーザー名」と「採点有効化キー」を入力後、セルを実行します。以下の画像を参考に入力をしてください。\n",
    "\n",
    "<img width=\"700px\" src=\"./img/intro_grading_img.png\">\n",
    "\n",
    "※画像内の「ユーザー名」と「採点有効化キー」はサンプルです。"
   ]
  },
  {
   "cell_type": "markdown",
   "metadata": {},
   "source": [
    "下のセル内の**「ユーザー名」と「採点有効化キー」を記入後**、次のセルをShift+Enterで実行して採点します。"
   ]
  },
  {
   "cell_type": "code",
   "execution_count": null,
   "metadata": {},
   "outputs": [],
   "source": [
    "#　採点セル\n",
    "from IPython.core.display import display, HTML\n",
    "evaluation =  !./validation_client.py sdcar-01 \"Username\" \"ActivationKey\"\n",
    "display(HTML((('<pre>'+'</pre>!@#'.join(evaluation)).replace('!@#', '<pre>')+'</pre>')))"
   ]
  },
  {
   "cell_type": "markdown",
   "metadata": {},
   "source": [
    "Grading is now complete.と出た場合、修了です。コースクリアになります。\n",
    "\n",
    "Invalid UserName.と出た場合、ユーザー名の入力に誤りがあります。正しいユーザー名が入力されているか確認をしてください。\n",
    "\n",
    "Invalid activationKey.と出た場合、採点有効化キーの入力に誤りがあります。正しくコピーがされているか確認をしてください。\n",
    "\n",
    "Invalid lap code.と出た場合、submit.txtの中身に誤りがあります。zero2oneにお知らせください。\n",
    "\n",
    "submit.txt not found.と出た場合、自動運転モードによる１周が終わっていません。\n"
   ]
  },
  {
   "cell_type": "code",
   "execution_count": null,
   "metadata": {},
   "outputs": [],
   "source": []
  }
 ],
 "metadata": {
  "kernelspec": {
   "display_name": "Python 3",
   "language": "python",
   "name": "python3"
  },
  "language_info": {
   "codemirror_mode": {
    "name": "ipython",
    "version": 3
   },
   "file_extension": ".py",
   "mimetype": "text/x-python",
   "name": "python",
   "nbconvert_exporter": "python",
   "pygments_lexer": "ipython3",
   "version": "3.5.6"
  }
 },
 "nbformat": 4,
 "nbformat_minor": 4
}
